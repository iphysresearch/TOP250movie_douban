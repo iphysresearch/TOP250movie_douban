{
 "cells": [
  {
   "cell_type": "code",
   "execution_count": 6,
   "id": "173f0c6f",
   "metadata": {},
   "outputs": [
    {
     "name": "stdout",
     "output_type": "stream",
     "text": [
      "[('喜欢', 3.863043756884516), ('女人', 1.0721942987903224), ('彩电', 0.2774954930783871), ('电视机', 0.27094901423967743), ('好看', 0.24503964030806452), ('没见', 0.24022750493806452)]\n"
     ]
    }
   ],
   "source": [
    "import jieba.analyse\n",
    "# jieba.analyse.set_stop_words('../customer-stopword.txt')\n",
    "segs = jieba.analyse.extract_tags('没见过第一次第一次第一次好看第一次喜欢喜欢喜欢喜欢喜欢喜欢喜欢喜欢喜欢喜欢喜欢喜欢喜欢真的喜欢这部电视机真的喜欢这部彩电真的喜欢这部女人，真的喜欢这部女人，真的喜欢这部女人，真的喜欢这部女人，真的喜欢这部女人，真的喜欢这部女人', topK=200, withWeight=True,allowPOS=('ns','n','vn','v'))\n",
    "print(segs)"
   ]
  },
  {
   "cell_type": "code",
   "execution_count": null,
   "id": "589ad630",
   "metadata": {},
   "outputs": [],
   "source": []
  },
  {
   "cell_type": "code",
   "execution_count": null,
   "id": "ef39e405",
   "metadata": {},
   "outputs": [],
   "source": []
  },
  {
   "cell_type": "code",
   "execution_count": null,
   "id": "94cbb04d",
   "metadata": {},
   "outputs": [],
   "source": []
  }
 ],
 "metadata": {
  "kernelspec": {
   "display_name": "Python 3 (ipykernel)",
   "language": "python",
   "name": "python3"
  },
  "language_info": {
   "codemirror_mode": {
    "name": "ipython",
    "version": 3
   },
   "file_extension": ".py",
   "mimetype": "text/x-python",
   "name": "python",
   "nbconvert_exporter": "python",
   "pygments_lexer": "ipython3",
   "version": "3.9.7"
  }
 },
 "nbformat": 4,
 "nbformat_minor": 5
}
