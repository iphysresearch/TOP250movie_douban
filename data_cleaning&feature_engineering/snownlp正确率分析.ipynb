{
 "cells": [
  {
   "cell_type": "code",
   "execution_count": 3,
   "id": "53ed561e",
   "metadata": {},
   "outputs": [],
   "source": [
    "import pandas as pd\n",
    "df = pd.read_csv('../douban_movie/data/comment-segments.csv')"
   ]
  },
  {
   "cell_type": "code",
   "execution_count": 18,
   "id": "94132ace",
   "metadata": {},
   "outputs": [],
   "source": [
    "def computed_correct_rate(degree, segments):\n",
    "    forward = ['力荐', '推荐']\n",
    "    middle = ['还行']\n",
    "    negative = ['较差', '很差']\n",
    "    if degree in forward and segments>0.5:\n",
    "        return True\n",
    "    elif degree in middle and segments==0.5:\n",
    "        return True\n",
    "    elif degree in negative and segments<0.5:\n",
    "        return True\n",
    "    else:\n",
    "        return False\n",
    "# flag = computed_correct_rate('还行', 0.9) \n",
    "# print(flag)\n",
    "# df['is_correct'] = df.apply(computed_correct_rate(df['degree'], df['segments']), axis=1)\n",
    "df['is_correct'] = df.apply(lambda x: computed_correct_rate(x['degree'], x['segments']), axis=1)"
   ]
  },
  {
   "cell_type": "code",
   "execution_count": 23,
   "id": "cee8c957",
   "metadata": {},
   "outputs": [
    {
     "name": "stdout",
     "output_type": "stream",
     "text": [
      "0.6084252550878393\n"
     ]
    }
   ],
   "source": [
    "# print(df.loc[df['is_correct']==True])\n",
    "# 正确率\n",
    "correct_rate = len(df.loc[df['is_correct']==True])/len(df.loc[df['is_correct']==False])\n",
    "print(correct_rate)"
   ]
  },
  {
   "cell_type": "code",
   "execution_count": 28,
   "id": "894d803e",
   "metadata": {},
   "outputs": [],
   "source": [
    "# 保存结果\n",
    "df.to_csv('../douban_movie/data/comment-segments2.csv', index=False)"
   ]
  },
  {
   "cell_type": "code",
   "execution_count": null,
   "id": "00e3727a",
   "metadata": {},
   "outputs": [],
   "source": []
  }
 ],
 "metadata": {
  "kernelspec": {
   "display_name": "Python 3 (ipykernel)",
   "language": "python",
   "name": "python3"
  },
  "language_info": {
   "codemirror_mode": {
    "name": "ipython",
    "version": 3
   },
   "file_extension": ".py",
   "mimetype": "text/x-python",
   "name": "python",
   "nbconvert_exporter": "python",
   "pygments_lexer": "ipython3",
   "version": "3.9.7"
  }
 },
 "nbformat": 4,
 "nbformat_minor": 5
}
