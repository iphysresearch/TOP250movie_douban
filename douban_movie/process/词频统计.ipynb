{
 "cells": [
  {
   "cell_type": "code",
   "execution_count": 77,
   "id": "80277d27",
   "metadata": {},
   "outputs": [],
   "source": [
    "import pandas as pd"
   ]
  },
  {
   "cell_type": "code",
   "execution_count": 78,
   "id": "0d66b5ce",
   "metadata": {},
   "outputs": [
    {
     "data": {
      "text/plain": [
       "116651"
      ]
     },
     "execution_count": 78,
     "metadata": {},
     "output_type": "execute_result"
    }
   ],
   "source": [
    "df = pd.read_csv('./腾讯/data/finish/导演创作.csv')\n",
    "df2 = pd.read_csv('./腾讯/data/finish/后期制作.csv')\n",
    "df3 = pd.read_csv('./腾讯/data/finish/拍摄阶段.csv')\n",
    "df4 = pd.read_csv('./腾讯/data/finish/演员表现.csv')\n",
    "df5 = pd.read_csv('./腾讯/data/finish/影片题材.csv')\n",
    "sum = len(df)+len(df2)+len(df3)+len(df4)+len(df5)\n",
    "sum"
   ]
  },
  {
   "cell_type": "code",
   "execution_count": 85,
   "id": "65c699a4",
   "metadata": {},
   "outputs": [],
   "source": [
    "def get_info(df):\n",
    "    director_num = pd.Series(df['Sentiment'].values).value_counts()\n",
    "    attention = len(df)/sum  #关注度\n",
    "    print(\"关注度{}\".format(format(attention, '.3f')))\n",
    "    pos_num = len(df.loc[df['Sentiment']=='positive'])\n",
    "    neg_num = len(df.loc[df['Sentiment']=='negative'])\n",
    "    satisfaction = pos_num/len(df) # 满意度\n",
    "    print(\"满意度{}\".format(format(satisfaction, '.3f')))\n",
    "    print(\"积极{}\".format(pos_num))\n",
    "    print(\"消极{}\".format(neg_num))"
   ]
  },
  {
   "cell_type": "markdown",
   "id": "42556230",
   "metadata": {},
   "source": [
    "## 导演创作"
   ]
  },
  {
   "cell_type": "code",
   "execution_count": 86,
   "id": "4391cc3a",
   "metadata": {},
   "outputs": [
    {
     "name": "stdout",
     "output_type": "stream",
     "text": [
      "关注度0.101\n",
      "满意度0.583\n",
      "积极6859\n",
      "消极4904\n"
     ]
    }
   ],
   "source": [
    "get_info(df)"
   ]
  },
  {
   "cell_type": "markdown",
   "id": "027eef26",
   "metadata": {},
   "source": [
    "## 后期制作"
   ]
  },
  {
   "cell_type": "code",
   "execution_count": 87,
   "id": "2538457d",
   "metadata": {},
   "outputs": [
    {
     "name": "stdout",
     "output_type": "stream",
     "text": [
      "关注度0.203\n",
      "满意度0.497\n",
      "积极11769\n",
      "消极11897\n"
     ]
    }
   ],
   "source": [
    "get_info(df2)"
   ]
  },
  {
   "cell_type": "markdown",
   "id": "947b7454",
   "metadata": {},
   "source": [
    "## 拍摄阶段"
   ]
  },
  {
   "cell_type": "code",
   "execution_count": 88,
   "id": "190a9ff2",
   "metadata": {},
   "outputs": [
    {
     "name": "stdout",
     "output_type": "stream",
     "text": [
      "关注度0.285\n",
      "满意度0.481\n",
      "积极15978\n",
      "消极17244\n"
     ]
    }
   ],
   "source": [
    "get_info(df3)"
   ]
  },
  {
   "cell_type": "markdown",
   "id": "93a3813c",
   "metadata": {},
   "source": [
    "## 影片题材"
   ]
  },
  {
   "cell_type": "code",
   "execution_count": 89,
   "id": "0b16f20c",
   "metadata": {},
   "outputs": [
    {
     "name": "stdout",
     "output_type": "stream",
     "text": [
      "关注度0.084\n",
      "满意度0.554\n",
      "积极5424\n",
      "消极4373\n"
     ]
    }
   ],
   "source": [
    "get_info(df4)"
   ]
  },
  {
   "cell_type": "markdown",
   "id": "8bc10d3c",
   "metadata": {},
   "source": [
    "## 演员表现"
   ]
  },
  {
   "cell_type": "code",
   "execution_count": 90,
   "id": "9a9006ee",
   "metadata": {},
   "outputs": [
    {
     "name": "stdout",
     "output_type": "stream",
     "text": [
      "关注度0.327\n",
      "满意度0.377\n",
      "积极14409\n",
      "消极23794\n"
     ]
    }
   ],
   "source": [
    "get_info(df5)"
   ]
  },
  {
   "cell_type": "code",
   "execution_count": null,
   "id": "30f79038",
   "metadata": {},
   "outputs": [],
   "source": []
  }
 ],
 "metadata": {
  "kernelspec": {
   "display_name": "Python 3.9.7 ('base')",
   "language": "python",
   "name": "python3"
  },
  "language_info": {
   "codemirror_mode": {
    "name": "ipython",
    "version": 3
   },
   "file_extension": ".py",
   "mimetype": "text/x-python",
   "name": "python",
   "nbconvert_exporter": "python",
   "pygments_lexer": "ipython3",
   "version": "3.9.7"
  },
  "vscode": {
   "interpreter": {
    "hash": "50f04f9c372e3e4ad998ceaa432ec3e0fc7c72b7b7de183f6f6eb135299ff9d9"
   }
  }
 },
 "nbformat": 4,
 "nbformat_minor": 5
}
